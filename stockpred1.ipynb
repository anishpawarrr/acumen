{
  "nbformat": 4,
  "nbformat_minor": 0,
  "metadata": {
    "colab": {
      "provenance": [],
      "authorship_tag": "ABX9TyPPgWE2imBZYI2JBebdg+/m",
      "include_colab_link": true
    },
    "kernelspec": {
      "name": "python3",
      "display_name": "Python 3"
    },
    "language_info": {
      "name": "python"
    }
  },
  "cells": [
    {
      "cell_type": "markdown",
      "metadata": {
        "id": "view-in-github",
        "colab_type": "text"
      },
      "source": [
        "<a href=\"https://colab.research.google.com/github/anishpawarrr/acumen/blob/main/stockpred1.ipynb\" target=\"_parent\"><img src=\"https://colab.research.google.com/assets/colab-badge.svg\" alt=\"Open In Colab\"/></a>"
      ]
    },
    {
      "cell_type": "markdown",
      "source": [
        "Importing libraries"
      ],
      "metadata": {
        "id": "xBK1qabKlAB8"
      }
    },
    {
      "cell_type": "code",
      "execution_count": 31,
      "metadata": {
        "id": "qNLQMjbRefxh"
      },
      "outputs": [],
      "source": [
        "import pandas as pd\n",
        "import numpy as np\n",
        "import matplotlib.pyplot as plt\n",
        "from sklearn.ensemble import RandomForestRegressor\n",
        "from sklearn.model_selection import train_test_split"
      ]
    },
    {
      "cell_type": "markdown",
      "source": [
        "Importing dataset"
      ],
      "metadata": {
        "id": "4YcMVmRsk-nk"
      }
    },
    {
      "cell_type": "code",
      "source": [
        "dataset = pd.read_csv('stockdata.csv')\n",
        "table = dataset.iloc[:,:]\n",
        "print(table)\n",
        "print()\n",
        "print(\"Number of records -> \",len(table))\n",
        "print()\n",
        "rsilist = dataset.iloc[-50:,4].values\n",
        "rsilist = np.array(rsilist)\n",
        "print(rsilist)"
      ],
      "metadata": {
        "colab": {
          "base_uri": "https://localhost:8080/"
        },
        "id": "CHfCLazVlZGz",
        "outputId": "4b970776-ff29-40a5-c4f4-ffef309aa38d"
      },
      "execution_count": 32,
      "outputs": [
        {
          "output_type": "stream",
          "name": "stdout",
          "text": [
            "             Date        Open        High         Low       Close   Adj Close  \\\n",
            "0      1980-12-12    0.128348    0.128906    0.128348    0.128348    0.100178   \n",
            "1      1980-12-15    0.122210    0.122210    0.121652    0.121652    0.094952   \n",
            "2      1980-12-16    0.113281    0.113281    0.112723    0.112723    0.087983   \n",
            "3      1980-12-17    0.115513    0.116071    0.115513    0.115513    0.090160   \n",
            "4      1980-12-18    0.118862    0.119420    0.118862    0.118862    0.092774   \n",
            "...           ...         ...         ...         ...         ...         ...   \n",
            "10463  2022-06-13  132.869995  135.199997  131.440002  131.880005  131.880005   \n",
            "10464  2022-06-14  133.130005  133.889999  131.479996  132.759995  132.759995   \n",
            "10465  2022-06-15  134.289993  137.339996  132.160004  135.429993  135.429993   \n",
            "10466  2022-06-16  132.080002  132.389999  129.039993  130.059998  130.059998   \n",
            "10467  2022-06-17  130.070007  133.080002  129.809998  131.559998  131.559998   \n",
            "\n",
            "          Volume  \n",
            "0      469033600  \n",
            "1      175884800  \n",
            "2      105728000  \n",
            "3       86441600  \n",
            "4       73449600  \n",
            "...          ...  \n",
            "10463  122207100  \n",
            "10464   84784300  \n",
            "10465   91533000  \n",
            "10466  108123900  \n",
            "10467  134118500  \n",
            "\n",
            "[10468 rows x 7 columns]\n",
            "\n",
            "Number of records ->  10468\n",
            "\n",
            "[172.139999 170.089996 165.75     167.660004 170.399994 165.289993\n",
            " 165.070007 167.399994 167.229996 166.419998 161.789993 162.880005\n",
            " 156.800003 156.570007 163.639999 157.649994 157.960007 159.479996\n",
            " 166.020004 156.770004 157.279999 152.059998 154.509995 146.5\n",
            " 142.559998 147.110001 145.539993 149.240005 140.820007 137.350006\n",
            " 137.589996 143.110001 140.360001 140.520004 143.779999 149.639999\n",
            " 148.839996 148.710007 151.210007 145.380005 146.139999 148.710007\n",
            " 147.960007 142.639999 137.130005 131.880005 132.759995 135.429993\n",
            " 130.059998 131.559998]\n"
          ]
        }
      ]
    },
    {
      "cell_type": "markdown",
      "source": [
        "Visualizing the data"
      ],
      "metadata": {
        "id": "BzfgtWrBoAUN"
      }
    },
    {
      "cell_type": "code",
      "source": [
        "dataframe = dataset.dropna()\n",
        "dataframe.plot(x='Date', y='Close')\n",
        "plt.xticks(rotation = 45)\n",
        "plt.plot()"
      ],
      "metadata": {
        "colab": {
          "base_uri": "https://localhost:8080/",
          "height": 334
        },
        "id": "K8eXU4DAoGAG",
        "outputId": "cde9552f-6995-4427-dbb7-e45e6bc6f3e2"
      },
      "execution_count": 33,
      "outputs": [
        {
          "output_type": "execute_result",
          "data": {
            "text/plain": [
              "[]"
            ]
          },
          "metadata": {},
          "execution_count": 33
        },
        {
          "output_type": "display_data",
          "data": {
            "text/plain": [
              "<Figure size 432x288 with 1 Axes>"
            ],
            "image/png": "[encoded data removed]"
          },
          "metadata": {
            "needs_background": "light"
          }
        }
      ]
    },
    {
      "cell_type": "markdown",
      "source": [
        "Creating model-Random forest\n",
        "because it is giving accuracy > 99.7%"
      ],
      "metadata": {
        "id": "bz8k3FoSopDc"
      }
    },
    {
      "cell_type": "code",
      "source": [
        "model = RandomForestRegressor()\n",
        "x = dataset.iloc[:len(dataset),[1,2,3,6]].values\n",
        "y = dataset.iloc[:len(dataset),[4]].values\n",
        "print(x)\n",
        "print()\n",
        "print(y)\n",
        "print()\n",
        "xtrn, xtst, ytrn, ytst = train_test_split(x,y, test_size = 0.2)\n",
        "model.fit(xtrn,ytrn)\n",
        "print()\n",
        "print(\"Accuracy is ->\",model.score(xtst,ytst))"
      ],
      "metadata": {
        "colab": {
          "base_uri": "https://localhost:8080/"
        },
        "id": "i0KD_e6AousU",
        "outputId": "37434e38-968a-4307-a3fc-b1d7eff6085d"
      },
      "execution_count": 36,
      "outputs": [
        {
          "output_type": "stream",
          "name": "stdout",
          "text": [
            "[[1.28348000e-01 1.28906000e-01 1.28348000e-01 4.69033600e+08]\n",
            " [1.22210000e-01 1.22210000e-01 1.21652000e-01 1.75884800e+08]\n",
            " [1.13281000e-01 1.13281000e-01 1.12723000e-01 1.05728000e+08]\n",
            " ...\n",
            " [1.34289993e+02 1.37339996e+02 1.32160004e+02 9.15330000e+07]\n",
            " [1.32080002e+02 1.32389999e+02 1.29039993e+02 1.08123900e+08]\n",
            " [1.30070007e+02 1.33080002e+02 1.29809998e+02 1.34118500e+08]]\n",
            "\n",
            "[[1.28348000e-01]\n",
            " [1.21652000e-01]\n",
            " [1.12723000e-01]\n",
            " ...\n",
            " [1.35429993e+02]\n",
            " [1.30059998e+02]\n",
            " [1.31559998e+02]]\n",
            "\n"
          ]
        },
        {
          "output_type": "stream",
          "name": "stderr",
          "text": [
            "<ipython-input-36-614d9754f053>:9: DataConversionWarning: A column-vector y was passed when a 1d array was expected. Please change the shape of y to (n_samples,), for example using ravel().\n",
            "  model.fit(xtrn,ytrn)\n"
          ]
        },
        {
          "output_type": "stream",
          "name": "stdout",
          "text": [
            "\n",
            "Accuracy is -> 0.999881325203358\n"
          ]
        }
      ]
    },
    {
      "cell_type": "markdown",
      "source": [
        "Predicting test set"
      ],
      "metadata": {
        "id": "dkYY4wCXtQKb"
      }
    },
    {
      "cell_type": "code",
      "source": [
        "pred = model.predict(xtst)\n",
        "np.set_printoptions(precision=2)\n",
        "table = pd.DataFrame(np.concatenate((ytst.reshape(len(pred), 1),pred.reshape(len(pred), 1)), 1), columns=['Actual','Predicted'])\n",
        "print(table)"
      ],
      "metadata": {
        "colab": {
          "base_uri": "https://localhost:8080/"
        },
        "id": "7C9aqCwOtPoQ",
        "outputId": "71fd3e11-2211-4dcf-cdb0-a87530257245"
      },
      "execution_count": 40,
      "outputs": [
        {
          "output_type": "stream",
          "name": "stdout",
          "text": [
            "          Actual   Predicted\n",
            "0       0.117188    0.117428\n",
            "1       0.399286    0.399105\n",
            "2      24.997499   25.021836\n",
            "3       0.165179    0.168293\n",
            "4      20.725714   20.559410\n",
            "...          ...         ...\n",
            "2089   20.273930   20.343285\n",
            "2090   18.953215   18.869604\n",
            "2091   26.145000   26.193875\n",
            "2092   19.426071   19.430004\n",
            "2093  148.789993  148.511600\n",
            "\n",
            "[2094 rows x 2 columns]\n"
          ]
        }
      ]
    },
    {
      "cell_type": "markdown",
      "source": [
        "Visualising accuracy"
      ],
      "metadata": {
        "id": "V0BVvSlkp7UC"
      }
    },
    {
      "cell_type": "code",
      "source": [
        "xax = xtst[:,0]\n",
        "plt.scatter(xax, ytst, s = 10, color = 'red', label = 'Actual values')\n",
        "plt.scatter(xax, pred, s = 10, color = 'blue', label = 'predicted values')\n",
        "plt.legend()\n",
        "plt.show()"
      ],
      "metadata": {
        "colab": {
          "base_uri": "https://localhost:8080/",
          "height": 265
        },
        "id": "ZkInvzMop73w",
        "outputId": "33366c97-d8d3-4993-c017-0e0d4369fba2"
      },
      "execution_count": 48,
      "outputs": [
        {
          "output_type": "display_data",
          "data": {
            "text/plain": [
              "<Figure size 432x288 with 1 Axes>"
            ],
            "image/png": "[encoded data removed]"
          },
          "metadata": {
            "needs_background": "light"
          }
        }
      ]
    }
  ]
}