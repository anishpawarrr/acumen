{
  "nbformat": 4,
  "nbformat_minor": 0,
  "metadata": {
    "colab": {
      "provenance": [],
      "mount_file_id": "1_dGh0wB-zLjjDBnvO-2SZR_RagkyiOi6",
      "authorship_tag": "ABX9TyNfjNlnB/0czOogm5r8NTje",
      "include_colab_link": true
    },
    "kernelspec": {
      "name": "python3",
      "display_name": "Python 3"
    },
    "language_info": {
      "name": "python"
    }
  },
  "cells": [
    {
      "cell_type": "markdown",
      "metadata": {
        "id": "view-in-github",
        "colab_type": "text"
      },
      "source": [
        "<a href=\"https://colab.research.google.com/github/anishpawarrr/acumen/blob/main/stockpred.ipynb\" target=\"_parent\"><img src=\"https://colab.research.google.com/assets/colab-badge.svg\" alt=\"Open In Colab\"/></a>"
      ]
    },
    {
      "cell_type": "markdown",
      "source": [
        "\n",
        "\n",
        "Importing Libraries\n",
        "\n"
      ],
      "metadata": {
        "id": "PIORRqqCxOWl"
      }
    },
    {
      "cell_type": "code",
      "execution_count": null,
      "metadata": {
        "id": "mqX6um3Pw9Ij"
      },
      "outputs": [],
      "source": [
        "import pandas as pd\n",
        "import numpy as np\n",
        "import matplotlib.pyplot as plt\n",
        "from sklearn.ensemble import RandomForestRegressor\n"
      ]
    },
    {
      "cell_type": "markdown",
      "source": [
        "Importing dataset"
      ],
      "metadata": {
        "id": "krwekRjjxNS7"
      }
    },
    {
      "cell_type": "code",
      "source": [
        "dataset = pd.read_csv('stockdata.csv')\n",
        "table = dataset.iloc[:,:]\n",
        "print(table)"
      ],
      "metadata": {
        "colab": {
          "base_uri": "https://localhost:8080/"
        },
        "id": "nsL_M4J9xfcq",
        "outputId": "f5046831-5a1e-4b92-c81d-c5351a383f85"
      },
      "execution_count": null,
      "outputs": [
        {
          "output_type": "stream",
          "name": "stdout",
          "text": [
            "             Date        Open        High         Low       Close   Adj Close  \\\n",
            "0      1980-12-12    0.128348    0.128906    0.128348    0.128348    0.100178   \n",
            "1      1980-12-15    0.122210    0.122210    0.121652    0.121652    0.094952   \n",
            "2      1980-12-16    0.113281    0.113281    0.112723    0.112723    0.087983   \n",
            "3      1980-12-17    0.115513    0.116071    0.115513    0.115513    0.090160   \n",
            "4      1980-12-18    0.118862    0.119420    0.118862    0.118862    0.092774   \n",
            "...           ...         ...         ...         ...         ...         ...   \n",
            "10463  2022-06-13  132.869995  135.199997  131.440002  131.880005  131.880005   \n",
            "10464  2022-06-14  133.130005  133.889999  131.479996  132.759995  132.759995   \n",
            "10465  2022-06-15  134.289993  137.339996  132.160004  135.429993  135.429993   \n",
            "10466  2022-06-16  132.080002  132.389999  129.039993  130.059998  130.059998   \n",
            "10467  2022-06-17  130.070007  133.080002  129.809998  131.559998  131.559998   \n",
            "\n",
            "          Volume  \n",
            "0      469033600  \n",
            "1      175884800  \n",
            "2      105728000  \n",
            "3       86441600  \n",
            "4       73449600  \n",
            "...          ...  \n",
            "10463  122207100  \n",
            "10464   84784300  \n",
            "10465   91533000  \n",
            "10466  108123900  \n",
            "10467  134118500  \n",
            "\n",
            "[10468 rows x 7 columns]\n"
          ]
        }
      ]
    },
    {
      "cell_type": "markdown",
      "source": [
        "visualization"
      ],
      "metadata": {
        "id": "M1JZgqsJ0pe2"
      }
    },
    {
      "cell_type": "code",
      "source": [
        "dataframe = dataset.dropna()\n",
        "dataframe.plot(x='Date', y='Close')\n",
        "plt.xticks(rotation = 45)"
      ],
      "metadata": {
        "colab": {
          "base_uri": "https://localhost:8080/",
          "height": 473
        },
        "id": "w-uU_QCD0q8H",
        "outputId": "f423d9d2-5844-48c3-c6ca-624fa202dce1"
      },
      "execution_count": null,
      "outputs": [
        {
          "output_type": "execute_result",
          "data": {
            "text/plain": [
              "(array([-2000.,     0.,  2000.,  4000.,  6000.,  8000., 10000., 12000.]),\n",
              " [Text(-2000.0, 0, '2014-07-11'),\n",
              "  Text(0.0, 0, '1980-12-12'),\n",
              "  Text(2000.0, 0, '1988-11-09'),\n",
              "  Text(4000.0, 0, '1996-10-08'),\n",
              "  Text(6000.0, 0, '2004-09-21'),\n",
              "  Text(8000.0, 0, '2012-08-28'),\n",
              "  Text(10000.0, 0, '2020-08-11'),\n",
              "  Text(12000.0, 0, '')])"
            ]
          },
          "metadata": {},
          "execution_count": 7
        },
        {
          "output_type": "display_data",
          "data": {
            "text/plain": [
              "<Figure size 432x288 with 1 Axes>"
            ],
            "image/png": "[encoded data removed]"
          },
          "metadata": {
            "needs_background": "light"
          }
        }
      ]
    },
    {
      "cell_type": "markdown",
      "source": [
        "Creating model"
      ],
      "metadata": {
        "id": "ZImH9FKT1WsV"
      }
    },
    {
      "cell_type": "code",
      "source": [
        "model = RandomForestRegressor()\n",
        "x = dataset.iloc[:,[1,2,3,6]].values\n",
        "y = dataset.iloc[:,[4]].values\n",
        "print(x)\n",
        "print()\n",
        "print(y)"
      ],
      "metadata": {
        "colab": {
          "base_uri": "https://localhost:8080/"
        },
        "id": "kS1NXBB91WSv",
        "outputId": "437c2a65-4ef1-4c0b-dbfa-03741ac447ca"
      },
      "execution_count": null,
      "outputs": [
        {
          "output_type": "stream",
          "name": "stdout",
          "text": [
            "[[1.28348000e-01 1.28906000e-01 1.28348000e-01 4.69033600e+08]\n",
            " [1.22210000e-01 1.22210000e-01 1.21652000e-01 1.75884800e+08]\n",
            " [1.13281000e-01 1.13281000e-01 1.12723000e-01 1.05728000e+08]\n",
            " ...\n",
            " [1.34289993e+02 1.37339996e+02 1.32160004e+02 9.15330000e+07]\n",
            " [1.32080002e+02 1.32389999e+02 1.29039993e+02 1.08123900e+08]\n",
            " [1.30070007e+02 1.33080002e+02 1.29809998e+02 1.34118500e+08]]\n",
            "\n",
            "[[1.28348000e-01]\n",
            " [1.21652000e-01]\n",
            " [1.12723000e-01]\n",
            " ...\n",
            " [1.35429993e+02]\n",
            " [1.30059998e+02]\n",
            " [1.31559998e+02]]\n"
          ]
        }
      ]
    },
    {
      "cell_type": "code",
      "source": [
        "from sklearn.model_selection import train_test_split\n",
        "xtrn, xtst, ytrn, ytst = train_test_split(x,y, test_size = 0.2)\n",
        "model.fit(xtrn,ytrn)\n",
        "print(\"Accuracy is ->\",model.score(xtst,ytst))"
      ],
      "metadata": {
        "colab": {
          "base_uri": "https://localhost:8080/"
        },
        "id": "UOiBs5Oq3De8",
        "outputId": "0aead477-ec9a-4124-81b8-8b034c37bc1c"
      },
      "execution_count": null,
      "outputs": [
        {
          "output_type": "stream",
          "name": "stderr",
          "text": [
            "<ipython-input-20-8aac78ba3f84>:3: DataConversionWarning: A column-vector y was passed when a 1d array was expected. Please change the shape of y to (n_samples,), for example using ravel().\n",
            "  model.fit(xtrn,ytrn)\n"
          ]
        },
        {
          "output_type": "stream",
          "name": "stdout",
          "text": [
            "Accuracy is -> 0.999902338443627\n"
          ]
        }
      ]
    },
    {
      "cell_type": "markdown",
      "source": [
        "Predicting"
      ],
      "metadata": {
        "id": "sVbDvXEc4cxW"
      }
    },
    {
      "cell_type": "code",
      "source": [
        "pred = model.predict(xtst)\n",
        "np.set_printoptions(precision=2)\n",
        "table = pd.DataFrame(np.concatenate((ytst.reshape(len(pred), 1),pred.reshape(len(pred), 1)), 1), columns=['Actual','Predicted'])\n",
        "print(table)"
      ],
      "metadata": {
        "colab": {
          "base_uri": "https://localhost:8080/"
        },
        "id": "iqxxcygZ4hnK",
        "outputId": "5290b2ee-57f7-4bce-e3ab-e359e25a8d6c"
      },
      "execution_count": null,
      "outputs": [
        {
          "output_type": "stream",
          "name": "stdout",
          "text": [
            "         Actual  Predicted\n",
            "0      1.497143   1.534061\n",
            "1      0.473214   0.471760\n",
            "2      0.340960   0.346196\n",
            "3      0.220982   0.221919\n",
            "4      0.106585   0.105396\n",
            "...         ...        ...\n",
            "2089   0.922991   0.922539\n",
            "2090   0.141741   0.145751\n",
            "2091   0.364464   0.368730\n",
            "2092   0.361607   0.369810\n",
            "2093  11.988214  11.981739\n",
            "\n",
            "[2094 rows x 2 columns]\n"
          ]
        }
      ]
    },
    {
      "cell_type": "code",
      "source": [
        "table.plot()"
      ],
      "metadata": {
        "colab": {
          "base_uri": "https://localhost:8080/",
          "height": 282
        },
        "id": "yghLk-216Fvv",
        "outputId": "b02a3772-e76b-4941-c36e-743bb38444cb"
      },
      "execution_count": null,
      "outputs": [
        {
          "output_type": "execute_result",
          "data": {
            "text/plain": [
              "<Axes: >"
            ]
          },
          "metadata": {},
          "execution_count": 26
        },
        {
          "output_type": "display_data",
          "data": {
            "text/plain": [
              "<Figure size 432x288 with 1 Axes>"
            ],
            "image/png": "[encoded data removed]"
          },
          "metadata": {
            "needs_background": "light"
          }
        }
      ]
    }
  ]
}