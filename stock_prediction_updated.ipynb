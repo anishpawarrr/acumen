{
  "nbformat": 4,
  "nbformat_minor": 0,
  "metadata": {
    "colab": {
      "provenance": [],
      "authorship_tag": "ABX9TyOjqVQ33KkkmtrN9tIVGxAl",
      "include_colab_link": true
    },
    "kernelspec": {
      "name": "python3",
      "display_name": "Python 3"
    },
    "language_info": {
      "name": "python"
    }
  },
  "cells": [
    {
      "cell_type": "markdown",
      "metadata": {
        "id": "view-in-github",
        "colab_type": "text"
      },
      "source": [
        "<a href=\"https://colab.research.google.com/github/anishpawarrr/acumen/blob/main/stock_prediction_updated.ipynb\" target=\"_parent\"><img src=\"https://colab.research.google.com/assets/colab-badge.svg\" alt=\"Open In Colab\"/></a>"
      ]
    },
    {
      "cell_type": "markdown",
      "source": [
        "# Importing libraries"
      ],
      "metadata": {
        "id": "xBK1qabKlAB8"
      }
    },
    {
      "cell_type": "code",
      "execution_count": 25,
      "metadata": {
        "id": "qNLQMjbRefxh"
      },
      "outputs": [],
      "source": [
        "import pandas as pd\n",
        "import numpy as np\n",
        "import matplotlib.pyplot as plt\n",
        "from sklearn.ensemble import RandomForestRegressor\n",
        "from sklearn.model_selection import train_test_split"
      ]
    },
    {
      "cell_type": "markdown",
      "source": [
        "# Importing dataset"
      ],
      "metadata": {
        "id": "4YcMVmRsk-nk"
      }
    },
    {
      "cell_type": "code",
      "source": [
        "#importing APPLE dataset downloaded from kaggle\n",
        "dataset = pd.read_csv('stockdata.csv')\n",
        "table = dataset.iloc[:,:]\n",
        "print(table)\n",
        "print()\n",
        "print(\"Number of records -> \",len(table))\n",
        "print()\n",
        "rsilist = dataset.iloc[-50:,4].values\n",
        "rsilist = np.array(rsilist)\n",
        "# print(rsilist)\n",
        "#2000->4816\n",
        "#last->10467"
      ],
      "metadata": {
        "colab": {
          "base_uri": "https://localhost:8080/"
        },
        "id": "CHfCLazVlZGz",
        "outputId": "fca598f4-4e14-4e8f-93cc-fbea42a97e16"
      },
      "execution_count": 26,
      "outputs": [
        {
          "output_type": "stream",
          "name": "stdout",
          "text": [
            "             Date        Open        High         Low       Close   Adj Close  \\\n",
            "0      1980-12-12    0.128348    0.128906    0.128348    0.128348    0.100178   \n",
            "1      1980-12-15    0.122210    0.122210    0.121652    0.121652    0.094952   \n",
            "2      1980-12-16    0.113281    0.113281    0.112723    0.112723    0.087983   \n",
            "3      1980-12-17    0.115513    0.116071    0.115513    0.115513    0.090160   \n",
            "4      1980-12-18    0.118862    0.119420    0.118862    0.118862    0.092774   \n",
            "...           ...         ...         ...         ...         ...         ...   \n",
            "10463  2022-06-13  132.869995  135.199997  131.440002  131.880005  131.880005   \n",
            "10464  2022-06-14  133.130005  133.889999  131.479996  132.759995  132.759995   \n",
            "10465  2022-06-15  134.289993  137.339996  132.160004  135.429993  135.429993   \n",
            "10466  2022-06-16  132.080002  132.389999  129.039993  130.059998  130.059998   \n",
            "10467  2022-06-17  130.070007  133.080002  129.809998  131.559998  131.559998   \n",
            "\n",
            "          Volume  \n",
            "0      469033600  \n",
            "1      175884800  \n",
            "2      105728000  \n",
            "3       86441600  \n",
            "4       73449600  \n",
            "...          ...  \n",
            "10463  122207100  \n",
            "10464   84784300  \n",
            "10465   91533000  \n",
            "10466  108123900  \n",
            "10467  134118500  \n",
            "\n",
            "[10468 rows x 7 columns]\n",
            "\n",
            "Number of records ->  10468\n",
            "\n"
          ]
        }
      ]
    },
    {
      "cell_type": "markdown",
      "source": [
        "# Visualizing the data"
      ],
      "metadata": {
        "id": "BzfgtWrBoAUN"
      }
    },
    {
      "cell_type": "code",
      "source": [
        "dataframe = dataset.dropna()\n",
        "dataframe.plot(x='Date', y='Close')\n",
        "plt.xticks(rotation = 45)\n",
        "plt.plot()"
      ],
      "metadata": {
        "colab": {
          "base_uri": "https://localhost:8080/",
          "height": 334
        },
        "id": "K8eXU4DAoGAG",
        "outputId": "a4278e5c-2076-4558-e0d7-d549cdf35090"
      },
      "execution_count": 27,
      "outputs": [
        {
          "output_type": "execute_result",
          "data": {
            "text/plain": [
              "[]"
            ]
          },
          "metadata": {},
          "execution_count": 27
        },
        {
          "output_type": "display_data",
          "data": {
            "text/plain": [
              "<Figure size 432x288 with 1 Axes>"
            ],
            "image/png": "[encoded data removed]"
          },
          "metadata": {
            "needs_background": "light"
          }
        }
      ]
    },
    {
      "cell_type": "markdown",
      "source": [
        "# Creating model-Random forest because accuracy > 99.98%"
      ],
      "metadata": {
        "id": "bz8k3FoSopDc"
      }
    },
    {
      "cell_type": "code",
      "source": [
        "model = RandomForestRegressor()\n",
        "x = dataset.iloc[:len(dataset),[1,2,3]].values\n",
        "y = dataset.iloc[:len(dataset),[4]].values\n",
        "print(x)\n",
        "print()\n",
        "print(y)\n",
        "print()\n",
        "xtrn, xtst, ytrn, ytst = train_test_split(x,y, test_size = 0.2)\n",
        "model.fit(xtrn,ytrn)\n",
        "print()\n",
        "print()\n",
        "print(\"Accuracy is ->\",model.score(xtst,ytst))\n",
        "print()\n",
        "print()"
      ],
      "metadata": {
        "colab": {
          "base_uri": "https://localhost:8080/"
        },
        "id": "i0KD_e6AousU",
        "outputId": "3bd8a995-384d-4eed-dcda-07c210f753cf"
      },
      "execution_count": 28,
      "outputs": [
        {
          "output_type": "stream",
          "name": "stdout",
          "text": [
            "[[1.28e-01 1.29e-01 1.28e-01]\n",
            " [1.22e-01 1.22e-01 1.22e-01]\n",
            " [1.13e-01 1.13e-01 1.13e-01]\n",
            " ...\n",
            " [1.34e+02 1.37e+02 1.32e+02]\n",
            " [1.32e+02 1.32e+02 1.29e+02]\n",
            " [1.30e+02 1.33e+02 1.30e+02]]\n",
            "\n",
            "[[1.28e-01]\n",
            " [1.22e-01]\n",
            " [1.13e-01]\n",
            " ...\n",
            " [1.35e+02]\n",
            " [1.30e+02]\n",
            " [1.32e+02]]\n",
            "\n"
          ]
        },
        {
          "output_type": "stream",
          "name": "stderr",
          "text": [
            "<ipython-input-28-66f1259694d6>:9: DataConversionWarning: A column-vector y was passed when a 1d array was expected. Please change the shape of y to (n_samples,), for example using ravel().\n",
            "  model.fit(xtrn,ytrn)\n"
          ]
        },
        {
          "output_type": "stream",
          "name": "stdout",
          "text": [
            "\n",
            "\n",
            "Accuracy is -> 0.9998883504606505\n",
            "\n",
            "\n"
          ]
        }
      ]
    },
    {
      "cell_type": "markdown",
      "source": [
        "# Predicting test set"
      ],
      "metadata": {
        "id": "dkYY4wCXtQKb"
      }
    },
    {
      "cell_type": "code",
      "source": [
        "pred = model.predict(xtst)\n",
        "np.set_printoptions(precision=2)\n",
        "table = pd.DataFrame(np.concatenate((ytst.reshape(len(pred), 1),pred.reshape(len(pred), 1)), 1), columns=['Actual','Predicted'])\n",
        "print(table)"
      ],
      "metadata": {
        "colab": {
          "base_uri": "https://localhost:8080/"
        },
        "id": "7C9aqCwOtPoQ",
        "outputId": "dd7dab8b-a8ca-4484-ee25-bae9636f87b4"
      },
      "execution_count": 29,
      "outputs": [
        {
          "output_type": "stream",
          "name": "stdout",
          "text": [
            "         Actual  Predicted\n",
            "0      0.359286   0.363941\n",
            "1      0.095424   0.095072\n",
            "2      0.329241   0.330812\n",
            "3      6.005714   5.959818\n",
            "4      0.093192   0.093209\n",
            "...         ...        ...\n",
            "2089   2.547143   2.474339\n",
            "2090  35.982498  35.910425\n",
            "2091   0.421875   0.421393\n",
            "2092   0.400357   0.399815\n",
            "2093  25.254999  25.402550\n",
            "\n",
            "[2094 rows x 2 columns]\n"
          ]
        }
      ]
    },
    {
      "cell_type": "markdown",
      "source": [
        "# Visualising accuracy"
      ],
      "metadata": {
        "id": "V0BVvSlkp7UC"
      }
    },
    {
      "cell_type": "code",
      "source": [
        "xax = xtst[:,0]\n",
        "plt.scatter(xax, ytst, s = 10, color = 'red', label = 'Actual values')\n",
        "plt.scatter(xax, pred, s = 10, color = 'blue', label = 'predicted values')\n",
        "plt.legend()\n",
        "plt.show()"
      ],
      "metadata": {
        "colab": {
          "base_uri": "https://localhost:8080/",
          "height": 265
        },
        "id": "ZkInvzMop73w",
        "outputId": "43a8a535-1648-4e9d-9d50-90d35e949225"
      },
      "execution_count": 30,
      "outputs": [
        {
          "output_type": "display_data",
          "data": {
            "text/plain": [
              "<Figure size 432x288 with 1 Axes>"
            ],
            "image/png": "[encoded data removed]"
          },
          "metadata": {
            "needs_background": "light"
          }
        }
      ]
    },
    {
      "cell_type": "markdown",
      "source": [
        "# Accuracy is **99.98%**"
      ],
      "metadata": {
        "id": "Hu6CQ4X45X8R"
      }
    },
    {
      "cell_type": "markdown",
      "source": [
        "# Suggesting customer"
      ],
      "metadata": {
        "id": "JiyhEsriUw_D"
      }
    },
    {
      "cell_type": "code",
      "source": [
        "#rsi function\n",
        "def calculate_rsi(prices, n=14):\n",
        "    deltas = np.diff(prices)\n",
        "    seed = deltas[:n + 1]\n",
        "    up = seed[seed >= 0].sum() / n\n",
        "    down = -seed[seed < 0].sum() / n\n",
        "    rs = up / down\n",
        "    rsi = np.zeros_like(prices)\n",
        "    rsi[:n] = 100. - 100. / (1. + rs)\n",
        "\n",
        "    for i in range(n, len(prices)):\n",
        "        delta = deltas[i - 1]  # cause the diff is 1 shorter\n",
        "        if delta > 0:\n",
        "            upval = delta\n",
        "            downval = 0.\n",
        "        else:\n",
        "            upval = 0.\n",
        "            downval = -delta\n",
        "\n",
        "        up = (up * (n - 1) + upval) / n\n",
        "        down = (down * (n - 1) + downval) / n\n",
        "\n",
        "        rs = up / down\n",
        "        rsi[i] = 100. - 100. / (1. + rs)\n",
        "\n",
        "    return rsi\n",
        "\n",
        "#ema function\n",
        "def calculate_ema(data, time_period):\n",
        "    # Convert the closing prices into a pandas DataFrame\n",
        "    df = pd.DataFrame(data, columns=['Close'])\n",
        "    # Calculate the multiplier\n",
        "    multiplier = 2 / (time_period + 1)\n",
        "    # Calculate the initial SMA\n",
        "    initial_sma = df['Close'][:time_period].mean()\n",
        "    # Create a list to store the EMAs\n",
        "    ema_values = [initial_sma]\n",
        "    # Loop through the rest of the data and calculate the EMAs\n",
        "    for i in range(time_period, len(df)):\n",
        "        close = df['Close'][i]\n",
        "        prev_ema = ema_values[-1]\n",
        "        ema = (close - prev_ema) * multiplier + prev_ema\n",
        "        ema_values.append(ema)\n",
        "    # Convert the list of EMAs back into a numpy array and return it\n",
        "    return np.array(ema_values)\n",
        "\n",
        "#macd function\n",
        "def get_latest_macd(data, fast_period=12, slow_period=26, signal_period=9):\n",
        "    \"\"\"\n",
        "    Calculates the Moving Average Convergence Divergence (MACD) indicator for a given stock price data\n",
        "    and returns the MACD and Signal values for the latest date.\n",
        "\n",
        "    Parameters:\n",
        "    data (pd.DataFrame): The stock price data with 'Date' and 'Close' columns.\n",
        "    fast_period (int): The fast EMA period. Default is 12.\n",
        "    slow_period (int): The slow EMA period. Default is 26.\n",
        "    signal_period (int): The signal EMA period. Default is 9.\n",
        "\n",
        "    Returns:\n",
        "    macd (float): The MACD indicator value for the latest date.\n",
        "    signal (float): The Signal value for the latest date.\n",
        "    \"\"\"\n",
        "\n",
        "    # Calculate the fast and slow EMA\n",
        "    fast_ema = data.ewm(span=fast_period, adjust=False).mean()\n",
        "    slow_ema = data.ewm(span=slow_period, adjust=False).mean()\n",
        "\n",
        "    # Calculate the MACD line and signal line\n",
        "    macd_line = fast_ema - slow_ema\n",
        "    signal_line = macd_line.ewm(span=signal_period, adjust=False).mean()\n",
        "\n",
        "    # Get the MACD and Signal values for the latest date\n",
        "    latest_macd = macd_line.iloc[-1]\n",
        "    latest_signal = signal_line.iloc[-1]\n",
        "\n",
        "    return latest_macd, latest_signal\n",
        "\n",
        "#functions for determing whether to buy or not\n",
        "\n",
        "def rsig30l60(rsi):\n",
        "    if rsi > 30 and rsi < 60:\n",
        "        return 1\n",
        "    else:\n",
        "        return 0\n",
        "\n",
        "def ema50g200(e50,e200):\n",
        "    if e50>e200:\n",
        "        return 1\n",
        "    else:\n",
        "        return 0\n",
        "\n",
        "def ema13g26(e13,e26):\n",
        "    if e13>e26:\n",
        "        return 1\n",
        "    else:\n",
        "        return 0\n",
        "def macdposi(macd):\n",
        "    if macd>0:\n",
        "        return 1\n",
        "    else:\n",
        "        return 0\n",
        "#final function to decide to buy or not\n",
        "def buyf(rsif,ema1f,ema2f,macdposif):\n",
        "    a = rsif + ema1f + ema2f + macdposif\n",
        "    if a > 2:\n",
        "        return True\n",
        "    else:\n",
        "        return False\n",
        "\n",
        "#functions for determing whether to sell or not\n",
        "\n",
        "def rsig60(rsi):\n",
        "    if rsi > 60:\n",
        "        return 1\n",
        "    else:\n",
        "        return 0\n",
        "\n",
        "def ema50l200(e50,e200):\n",
        "    if e50<e200:\n",
        "        return 1\n",
        "    else:\n",
        "        return 0\n",
        "\n",
        "def ema13l26(e13,e26):\n",
        "    if e13<e26:\n",
        "        return 1\n",
        "    else:\n",
        "        return 0\n",
        "def macdneg(macd):\n",
        "    if macd<0:\n",
        "        return 1\n",
        "    else:\n",
        "        return 0\n",
        "#final function to decide to sell or not\n",
        "def sellf(rsif,ema1f,ema2f,macdnegf):\n",
        "    a = rsif + ema1f + ema2f + macdnegf\n",
        "    if a > 2:\n",
        "        return True\n",
        "    else:\n",
        "        return False\n",
        "\n",
        "# print(dataset.iloc[:,4])\n",
        "rsi = calculate_rsi(dataset.iloc[:,4].values,14)\n",
        "recent_rsi = rsi[-1]\n",
        "ema13 = calculate_ema(dataset.iloc[:,4].values,13)\n",
        "recent_ema13 = ema13[-1]\n",
        "ema26 = calculate_ema(dataset.iloc[:,4].values,26)\n",
        "recent_ema26 = ema26[-1]\n",
        "ema50 = calculate_ema(dataset.iloc[:,4].values,50)\n",
        "recent_ema50 = ema50[-1]\n",
        "ema200 = calculate_ema(dataset.iloc[:,4].values,200)\n",
        "recent_ema200 = ema200[-1]\n",
        "# print(recent_ema13,recent_ema26)\n",
        "macd_latest, macd_signal = get_latest_macd(dataset.iloc[:,4])\n",
        "# print(recent_ema13,recent_ema26,recent_ema50,recent_ema200)\n",
        "buy = buyf(rsig30l60(recent_rsi), ema50g200(recent_ema50,recent_ema200), ema13g26(recent_ema13,recent_ema26),macdposi(macd_latest))\n",
        "sell = sellf(rsig60(recent_rsi), ema50l200(recent_ema50,recent_ema200), ema13l26(recent_ema13,recent_ema26),macdneg(macd_latest))\n",
        "print(sell)\n",
        "print(buy)\n"
      ],
      "metadata": {
        "colab": {
          "base_uri": "https://localhost:8080/"
        },
        "id": "0i8jNtoKUxqe",
        "outputId": "30690593-1b63-46ed-91c1-11a397cc98ca"
      },
      "execution_count": 39,
      "outputs": [
        {
          "output_type": "stream",
          "name": "stdout",
          "text": [
            "True\n",
            "False\n"
          ]
        }
      ]
    },
    {
      "cell_type": "markdown",
      "source": [
        "# Simulation for past 67 days\n",
        "67 just because computation is too heavy"
      ],
      "metadata": {
        "id": "g0am_pSlm7Mu"
      }
    },
    {
      "cell_type": "code",
      "source": [
        "# startpoint = 4816\n",
        "startpoint = 10400\n",
        "endpoint = 10467\n",
        "ds = pd.read_csv('stockdata.csv')\n",
        "#investing 100k in APPLE stocks\n",
        "pocket = 100000\n",
        "stocks = 0\n",
        "print(\"Initial investment : \", pocket)\n",
        "for i in range(startpoint,endpoint):\n",
        "    rsi = calculate_rsi(dataset.iloc[:i,4].values,14)\n",
        "    recent_rsi = rsi[-1]\n",
        "    ema13 = calculate_ema(dataset.iloc[:i,4].values,13)\n",
        "    recent_ema13 = ema13[-1]\n",
        "    ema26 = calculate_ema(dataset.iloc[:i,4].values,26)\n",
        "    recent_ema26 = ema26[-1]\n",
        "    ema50 = calculate_ema(dataset.iloc[:i,4].values,50)\n",
        "    recent_ema50 = ema50[-1]\n",
        "    ema200 = calculate_ema(dataset.iloc[:i,4].values,200)\n",
        "    recent_ema200 = ema200[-1]\n",
        "    # print(recent_ema13,recent_ema26)\n",
        "    macd_latest, macd_signal = get_latest_macd(dataset.iloc[:i,4])\n",
        "    # print(recent_ema13,recent_ema26,recent_ema50,recent_ema200)\n",
        "    buy = buyf(rsig30l60(recent_rsi), ema50g200(recent_ema50,recent_ema200), ema13g26(recent_ema13,recent_ema26),macdposi(macd_latest))\n",
        "    sell = sellf(rsig60(recent_rsi), ema50l200(recent_ema50,recent_ema200), ema13l26(recent_ema13,recent_ema26),macdneg(macd_latest))\n",
        "    if(buy):\n",
        "        if pocket>0:\n",
        "            stocks = pocket/dataset.iloc[:i,4].values[-1]\n",
        "            pocket = 0\n",
        "    if(sell):\n",
        "        if stocks>0:\n",
        "             pocket = stocks*dataset.iloc[:i,4].values[-1]\n",
        "print(\"After using this model : \", pocket+stocks*dataset.iloc[:-1,4].values[-1])\n"
      ],
      "metadata": {
        "id": "RFne5M5um_o0",
        "colab": {
          "base_uri": "https://localhost:8080/"
        },
        "outputId": "a5fda94f-8c01-49ed-de2b-a456cb571eaf"
      },
      "execution_count": 40,
      "outputs": [
        {
          "output_type": "stream",
          "name": "stdout",
          "text": [
            "Initial investment :  100000\n",
            "After using this model :  152519.09020719462\n"
          ]
        }
      ]
    },
    {
      "cell_type": "markdown",
      "source": [
        "# Investment -> 100000\n",
        "# After applying model -> 152519.09020719462\n",
        "# Profit -> **52519.09021**"
      ],
      "metadata": {
        "id": "peb4Z2xlA9KK"
      }
    }
  ]
}